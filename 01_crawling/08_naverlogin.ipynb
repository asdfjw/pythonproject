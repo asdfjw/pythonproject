{
 "cells": [
  {
   "cell_type": "code",
   "execution_count": 14,
   "id": "c26434fb-6dde-4190-93e0-0528fecbb0f6",
   "metadata": {
    "tags": []
   },
   "outputs": [],
   "source": [
    "id = ''\n",
    "pw = ''"
   ]
  },
  {
   "cell_type": "code",
   "execution_count": 15,
   "id": "412d7f9f-6eb8-46c0-9451-d10e0944f3a0",
   "metadata": {
    "tags": []
   },
   "outputs": [],
   "source": [
    "from selenium import webdriver\n",
    "from selenium.webdriver.common.by import By\n",
    "from selenium.webdriver.common.keys import Keys\n",
    "import time\n",
    "import pyperclip"
   ]
  },
  {
   "cell_type": "code",
   "execution_count": 16,
   "id": "d1ebb53e-3d9d-4a2b-a1f9-74c04f8936ca",
   "metadata": {
    "tags": []
   },
   "outputs": [],
   "source": [
    "# !pip install pyperclip"
   ]
  },
  {
   "cell_type": "code",
   "execution_count": 13,
   "id": "cadc7362-36ab-4f38-9143-952b2bd5b18b",
   "metadata": {
    "tags": []
   },
   "outputs": [],
   "source": [
    "url = 'https://nid.naver.com/nidlogin.login'\n",
    "driver = webdriver.Chrome()\n",
    "driver.get(url)\n",
    "time.sleep(5)\n",
    "\n",
    "# driver.find_element(By.ID,'id').send_keys(id)\n",
    "# driver.find_element(By.ID,'pw').send_keys(pw)\n",
    "\n",
    "# driver.execute_script(\"document.getElementsByName('id')[0].value='\"+id+\"'\")\n",
    "# driver.execute_script(\"document.getElementsByName('pw')[0].value='\"+pw+\"'\")\n",
    "\n",
    "ele_id = driver.find_element(By.ID,'id')\n",
    "ele_id.click()\n",
    "pyperclip.copy(id)\n",
    "ele_id.send_keys(Keys.CONTROL,'v')\n",
    "time.sleep(2)\n",
    "\n",
    "ele_pw = driver.find_element(By.ID,'pw')\n",
    "ele_pw.click()\n",
    "pyperclip.copy(pw)\n",
    "ele_pw.send_keys(Keys.CONTROL,'v')\n",
    "time.sleep(2)\n",
    "\n",
    "# driver.find_element(By.CLASS_NAME,'btn_login').click()\n",
    "driver.find_element(By.XPATH,'//*[@id=\"log.login\"]').click()\n",
    "\n"
   ]
  },
  {
   "cell_type": "code",
   "execution_count": 5,
   "id": "f47c2d52-3019-460d-88db-2cf637abdd4e",
   "metadata": {
    "tags": []
   },
   "outputs": [
    {
     "data": {
      "text/plain": [
       "\"document.getElementsByName('id')[0].value='shimseonjo'\""
      ]
     },
     "execution_count": 5,
     "metadata": {},
     "output_type": "execute_result"
    }
   ],
   "source": [
    "text = \"document.getElementsByName('id')[0].value='\"+id+\"'\"\n",
    "text"
   ]
  },
  {
   "cell_type": "code",
   "execution_count": null,
   "id": "60b11578-9d2a-4bf1-b51d-fa1c7685f028",
   "metadata": {},
   "outputs": [],
   "source": []
  }
 ],
 "metadata": {
  "kernelspec": {
   "display_name": "Python 3 (ipykernel)",
   "language": "python",
   "name": "python3"
  },
  "language_info": {
   "codemirror_mode": {
    "name": "ipython",
    "version": 3
   },
   "file_extension": ".py",
   "mimetype": "text/x-python",
   "name": "python",
   "nbconvert_exporter": "python",
   "pygments_lexer": "ipython3",
   "version": "3.11.1"
  }
 },
 "nbformat": 4,
 "nbformat_minor": 5
}
