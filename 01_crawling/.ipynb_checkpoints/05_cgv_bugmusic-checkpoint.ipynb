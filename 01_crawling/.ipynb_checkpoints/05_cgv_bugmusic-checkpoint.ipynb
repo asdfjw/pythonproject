{
 "cells": [
  {
   "cell_type": "code",
   "execution_count": 1,
   "id": "d40fffc9-2cd7-45f7-afdc-bbaa07b697da",
   "metadata": {
    "tags": []
   },
   "outputs": [],
   "source": [
    "# http://www.cgv.co.kr/movies/ 무비차트 영화제목 크롤링"
   ]
  },
  {
   "cell_type": "code",
   "execution_count": 1,
   "id": "fcb933ee-08d6-46e1-b5c9-b84e48e15488",
   "metadata": {},
   "outputs": [],
   "source": [
    "from urllib import request\n",
    "from bs4 import BeautifulSoup"
   ]
  },
  {
   "cell_type": "code",
   "execution_count": 5,
   "id": "d30bc149-1511-4979-88a8-4adba3f2f3cf",
   "metadata": {
    "collapsed": true,
    "jupyter": {
     "outputs_hidden": true
    },
    "tags": []
   },
   "outputs": [
    {
     "name": "stdout",
     "output_type": "stream",
     "text": [
      "더 퍼스트 슬램덩크\n",
      "스즈메의 문단속\n",
      "던전 앤 드래곤-도적들의 명예\n",
      "아임 히어로 더 파이널\n",
      "파벨만스\n",
      "상견니\n",
      "찬란한 나의 복수\n",
      "오토라는 남자\n",
      "웅남이\n",
      "흐르다\n",
      "엘 카미노\n",
      "소울메이트\n",
      "귀멸의 칼날-상현집결, 그리고 도공 마을로\n",
      "이니셰린의 밴시\n",
      "에브리씽 에브리웨어 올 앳 원스+\n",
      "패왕별희 디 오리지널\n",
      "더 웨일\n",
      "멍뭉이\n",
      "[알베르게다이닝]엘 카미노(GV)\n"
     ]
    }
   ],
   "source": [
    "url = 'http://www.cgv.co.kr/movies/'\n",
    "response = request.urlopen(url)\n",
    "soup = BeautifulSoup(response,'lxml')\n",
    "# print(soup)\n",
    "result = soup.select('strong.title')\n",
    "# print(result)\n",
    "for item in result:\n",
    "    # print(item.string)\n",
    "    print(item.text)"
   ]
  },
  {
   "cell_type": "code",
   "execution_count": null,
   "id": "f98371a5-c658-4c7e-af00-60ba826ab1d0",
   "metadata": {},
   "outputs": [],
   "source": [
    "# https://music.bugs.co.kr/chart  벅스차트 곡이름,아티스트 크롤링"
   ]
  },
  {
   "cell_type": "code",
   "execution_count": 1,
   "id": "b30d0ff3-793b-400a-9a5d-ea730de29aae",
   "metadata": {
    "tags": []
   },
   "outputs": [],
   "source": [
    "from urllib import request\n",
    "from bs4 import BeautifulSoup"
   ]
  },
  {
   "cell_type": "code",
   "execution_count": 2,
   "id": "8cc9c66f-ad3b-4313-bddd-37380839fef8",
   "metadata": {
    "tags": []
   },
   "outputs": [
    {
     "name": "stdout",
     "output_type": "stream",
     "text": [
      "100\n"
     ]
    }
   ],
   "source": [
    "url = 'https://music.bugs.co.kr/chart'\n",
    "response = request.urlopen(url)\n",
    "soup = BeautifulSoup(response,'lxml')\n",
    "\n",
    "title_list = []\n",
    "artist_list = []\n",
    "\n",
    "title = soup.select('p.title > a')\n",
    "# print(title)\n",
    "for item in title:\n",
    "    # print(item.string)\n",
    "    title_list.append(item.string)\n",
    "\n",
    "artist = soup.select('p.artist')\n",
    "print(len(artist))\n",
    "for item in artist:\n",
    "    # print(item)\n",
    "    # print(item.text)\n",
    "    # print(item.text.strip())\n",
    "    # print('--------------')\n",
    "    artist_list.append(item.text.strip())"
   ]
  },
  {
   "cell_type": "code",
   "execution_count": 3,
   "id": "d3a0d81c-a67a-4ff3-aea9-4efe864e20eb",
   "metadata": {
    "tags": []
   },
   "outputs": [
    {
     "data": {
      "text/plain": [
       "(100, 100)"
      ]
     },
     "execution_count": 3,
     "metadata": {},
     "output_type": "execute_result"
    }
   ],
   "source": [
    "len(title_list),len(artist_list)"
   ]
  },
  {
   "cell_type": "code",
   "execution_count": 4,
   "id": "60b57828-b75e-405a-a3d7-52aa5a01c968",
   "metadata": {
    "collapsed": true,
    "jupyter": {
     "outputs_hidden": true
    },
    "tags": []
   },
   "outputs": [
    {
     "data": {
      "text/plain": [
       "['IVE (아이브)',\n",
       " '지수(JISOO)',\n",
       " 'NewJeans',\n",
       " 'NewJeans',\n",
       " 'NewJeans',\n",
       " 'STAYC(스테이씨)',\n",
       " 'NMIXX',\n",
       " 'NewJeans',\n",
       " 'H1-KEY (하이키)',\n",
       " '지올팍(Zior Park)',\n",
       " 'NewJeans',\n",
       " '부석순(SEVENTEEN)',\n",
       " '주주 시크릿',\n",
       " 'Charlie Puth(찰리 푸스)',\n",
       " '윤하(Younha/ユンナ)',\n",
       " 'LE SSERAFIM (르세라핌)',\n",
       " 'IVE (아이브)',\n",
       " 'IVE (아이브)',\n",
       " 'STAYC(스테이씨)',\n",
       " 'DK(디셈버)',\n",
       " 'Charlie Puth(찰리 푸스)',\n",
       " 'DAY6 (데이식스)',\n",
       " '태양',\n",
       " '윤하(Younha/ユンナ)',\n",
       " '우디(Woody)',\n",
       " 'Christopher(크리스토퍼)\\n\\n\\r\\nChristopher(크리스토퍼)',\n",
       " '지민',\n",
       " 'NMIXX',\n",
       " 'NCT DREAM',\n",
       " '멜로망스(MeloMance)',\n",
       " 'BLACKPINK',\n",
       " 'Sam Smith(샘 스미스)\\n\\n\\r\\nSam Smith(샘 스미스)',\n",
       " 'BLACKPINK',\n",
       " 'LE SSERAFIM (르세라핌)',\n",
       " '성시경',\n",
       " 'NewJeans',\n",
       " 'Charlie Puth(찰리 푸스)',\n",
       " '버스커 버스커(Busker Busker)',\n",
       " '하이포(HIGH4)\\n\\n\\r\\n하이포(HIGH4)',\n",
       " 'The Kid LAROI\\n\\n\\r\\nThe Kid LAROI',\n",
       " 'Charlie Puth(찰리 푸스)',\n",
       " 'IVE (아이브)',\n",
       " '우디(Woody)',\n",
       " '카라(Kara)',\n",
       " 'Red Velvet (레드벨벳)',\n",
       " '10CM',\n",
       " '(여자)아이들',\n",
       " 'tripleS (트리플에스)',\n",
       " 'BIG Naughty (서동현)',\n",
       " 'Crush',\n",
       " '(여자)아이들',\n",
       " '경서예지\\n\\n\\r\\n경서예지',\n",
       " '#안녕',\n",
       " 'Justin Bieber(저스틴 비버)',\n",
       " '폴킴(Paul Kim)',\n",
       " '지코 (ZICO)',\n",
       " '이영지',\n",
       " '테이(Tei)',\n",
       " 'WSG워너비 (가야G)',\n",
       " '정국\\n\\n\\r\\n정국',\n",
       " '김민석 (멜로망스)',\n",
       " 'TWICE (트와이스)',\n",
       " '아이유(IU)',\n",
       " 'LE SSERAFIM (르세라핌)',\n",
       " '잔나비',\n",
       " 'WSG워너비 (가야G)',\n",
       " '방탄소년단',\n",
       " '임영웅',\n",
       " 'Anne-Marie(앤 마리)\\n\\n\\r\\nAnne-Marie(앤 마리)',\n",
       " '태연 (TAEYEON)',\n",
       " \"BE'O (비오)\",\n",
       " 'BIGBANG (빅뱅)',\n",
       " 'aespa',\n",
       " '경서',\n",
       " '볼빨간사춘기',\n",
       " 'BIG Naughty (서동현)',\n",
       " 'NewJeans',\n",
       " \"BE'O (비오)\",\n",
       " 'FIFTY FIFTY',\n",
       " '주호',\n",
       " 'WSG워너비(4FIRE)',\n",
       " '최유리',\n",
       " '지수(JISOO)',\n",
       " 'Charlie Puth(찰리 푸스)\\n\\n\\r\\nCharlie Puth(찰리 푸스)',\n",
       " '방탄소년단',\n",
       " '다비치',\n",
       " 'OneRepublic(원리퍼블릭)',\n",
       " 'aespa',\n",
       " 'Meghan Trainor(메간 트레이너)',\n",
       " '10CM\\n\\n\\r\\n10CM',\n",
       " '강민경\\n\\n\\r\\n강민경',\n",
       " '이홍기 (FT아일랜드)',\n",
       " '신예영',\n",
       " '송하예',\n",
       " 'Taylor Swift(테일러 스위프트)',\n",
       " '임한별',\n",
       " '지아(Zia)',\n",
       " '지민',\n",
       " '태연 (TAEYEON)',\n",
       " '임한별']"
      ]
     },
     "execution_count": 4,
     "metadata": {},
     "output_type": "execute_result"
    }
   ],
   "source": [
    "artist_list"
   ]
  },
  {
   "cell_type": "code",
   "execution_count": 6,
   "id": "7d4edb13-9b23-4b45-88bc-db781d6744ac",
   "metadata": {
    "tags": []
   },
   "outputs": [],
   "source": [
    "artist_list_final = []\n",
    "for item in artist_list:\n",
    "    # print(item.replace('\\n\\n\\r\\n',','))\n",
    "    # print(item.replace('\\n\\n\\r\\n',',').split(',')[0])\n",
    "    artist_list_final.append(item.replace('\\n\\n\\r\\n',',').split(',')[0])"
   ]
  },
  {
   "cell_type": "code",
   "execution_count": 7,
   "id": "de8066de-64ba-4cd4-875a-111e4efdc104",
   "metadata": {
    "tags": []
   },
   "outputs": [
    {
     "name": "stdout",
     "output_type": "stream",
     "text": [
      "[('Kitsch', 'IVE (아이브)'), ('꽃', '지수(JISOO)'), ('Zero', 'NewJeans'), ('Ditto', 'NewJeans'), ('Hype Boy', 'NewJeans'), ('Teddy Bear', 'STAYC(스테이씨)'), ('Love Me Like This', 'NMIXX'), ('OMG', 'NewJeans'), ('건물 사이에 피어난 장미 (Rose Blossom)', 'H1-KEY (하이키)'), ('CHRISTIAN', '지올팍(Zior Park)'), ('Attention', 'NewJeans'), ('파이팅 해야지 (Feat. 이영지)', '부석순(SEVENTEEN)'), ('밤이 무서워요 (Lonely Night)', '주주 시크릿'), ('I Don’t Think That I Like Her', 'Charlie Puth(찰리 푸스)'), ('사건의 지평선', '윤하(Younha/ユンナ)'), ('ANTIFRAGILE', 'LE SSERAFIM (르세라핌)'), ('After LIKE', 'IVE (아이브)'), ('LOVE DIVE', 'IVE (아이브)'), ('Poppy (Korean Ver.)', 'STAYC(스테이씨)'), ('심(心)', 'DK(디셈버)'), ('Dangerously', 'Charlie Puth(찰리 푸스)'), ('한 페이지가 될 수 있게', 'DAY6 (데이식스)'), ('VIBE (feat. Jimin of BTS)', '태양'), ('오르트구름', '윤하(Younha/ユンナ)'), ('Nostalgia', '우디(Woody)'), ('When I Get Old', 'Christopher(크리스토퍼)'), ('Like Crazy', '지민'), ('Young, Dumb, Stupid', 'NMIXX'), ('Candy', 'NCT DREAM'), ('사랑인가 봐', '멜로망스(MeloMance)'), ('Shut Down', 'BLACKPINK'), ('Unholy', 'Sam Smith(샘 스미스)'), ('Pink Venom', 'BLACKPINK'), ('FEARLESS', 'LE SSERAFIM (르세라핌)'), ('너의 모든 순간', '성시경'), ('Cookie', 'NewJeans'), (\"That's Hilarious\", 'Charlie Puth(찰리 푸스)'), ('벚꽃 엔딩', '버스커 버스커(Busker Busker)'), ('봄 사랑 벚꽃 말고', '하이포(HIGH4)'), ('STAY', 'The Kid LAROI'), ('That’s Not How This Works (feat. Dan + Shay)', 'Charlie Puth(찰리 푸스)'), ('ELEVEN', 'IVE (아이브)'), ('Say I Love You', '우디(Woody)'), ('WHEN I MOVE', '카라(Kara)'), ('Feel My Rhythm', 'Red Velvet (레드벨벳)'), ('그라데이션', '10CM'), ('Nxde', '(여자)아이들'), ('Rising', 'tripleS (트리플에스)'), ('정이라고 하자 (Feat. 10CM)', 'BIG Naughty (서동현)'), ('Rush Hour (Feat. j-hope of BTS)', 'Crush'), ('TOMBOY', '(여자)아이들'), ('다정히 내 이름을 부르면', '경서예지'), ('해요 (2022)', '#안녕'), ('Off My Face', 'Justin Bieber(저스틴 비버)'), ('모든 날, 모든 순간 (Every day, Every Moment)', '폴킴(Paul Kim)'), ('새삥 (Prod. ZICO) (Feat. 호미들)', '지코 (ZICO)'), ('NOT SORRY (Feat. pH-1) (Prod. by Slom)', '이영지'), ('Monologue', '테이(Tei)'), ('그때 그 순간 그대로 (그그그)', 'WSG워너비 (가야G)'), ('Dreamers [Music from the FIFA World Cup Qatar 2022 Official Soundtrack] (feat. FIFA Sound)', '정국'), ('취중고백', '김민석 (멜로망스)'), ('SET ME FREE', 'TWICE (트와이스)'), ('strawberry moon', '아이유(IU)'), ('Impurities', 'LE SSERAFIM (르세라핌)'), ('주저하는 연인들을 위해', '잔나비'), ('결국엔 너에게 닿아서', 'WSG워너비 (가야G)'), ('봄날', '방탄소년단'), ('사랑은 늘 도망가', '임영웅'), ('Expectations', 'Anne-Marie(앤 마리)'), ('INVU', '태연 (TAEYEON)'), ('LOVE me', \"BE'O (비오)\"), ('봄여름가을겨울 (Still Life)', 'BIGBANG (빅뱅)'), ('도깨비불 (Illusion)', 'aespa'), ('나의 X에게', '경서'), ('Love story', '볼빨간사춘기'), ('친구로 지내다 보면 (Feat. 김민석 of 멜로망스)', 'BIG Naughty (서동현)'), ('Hurt', 'NewJeans'), ('자격지심 (Feat. ZICO)', \"BE'O (비오)\"), ('Cupid', 'FIFTY FIFTY'), ('내가 아니라도', '주호'), ('보고싶었어', 'WSG워너비(4FIRE)'), ('그댄 행복에 살텐데 (2022)', '최유리'), ('All Eyes On Me', '지수(JISOO)'), ('Left and Right (Feat. Jung Kook of BTS)', 'Charlie Puth(찰리 푸스)'), ('Dynamite', '방탄소년단'), ('팡파레', '다비치'), (\"I Ain't Worried\", 'OneRepublic(원리퍼블릭)'), ('Next Level', 'aespa'), ('Made You Look', 'Meghan Trainor(메간 트레이너)'), ('딱 10CM만', '10CM'), ('우린 그렇게 사랑해서', '강민경'), ('아모르 파티', '이홍기 (FT아일랜드)'), ('마지막 사랑', '신예영'), ('그대를 알고', '송하예'), ('Anti-Hero', 'Taylor Swift(테일러 스위프트)'), ('사랑하지 않아서 그랬어', '임한별'), ('사랑하기 싫어', '지아(Zia)'), ('Set Me Free Pt.2', '지민'), ('혼자서 걸어요 (Prod. by 나얼)', '태연 (TAEYEON)'), ('떠나보낼 준비해 둘걸 그랬어', '임한별')]\n"
     ]
    }
   ],
   "source": [
    "result = list(zip(title_list,artist_list_final))\n",
    "print(result)"
   ]
  },
  {
   "cell_type": "code",
   "execution_count": null,
   "id": "9bba7197-8681-4208-8b18-4f7e2754a337",
   "metadata": {},
   "outputs": [],
   "source": []
  }
 ],
 "metadata": {
  "kernelspec": {
   "display_name": "Python 3 (ipykernel)",
   "language": "python",
   "name": "python3"
  },
  "language_info": {
   "codemirror_mode": {
    "name": "ipython",
    "version": 3
   },
   "file_extension": ".py",
   "mimetype": "text/x-python",
   "name": "python",
   "nbconvert_exporter": "python",
   "pygments_lexer": "ipython3",
   "version": "3.11.1"
  }
 },
 "nbformat": 4,
 "nbformat_minor": 5
}
