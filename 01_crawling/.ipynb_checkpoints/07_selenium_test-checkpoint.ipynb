{
 "cells": [
  {
   "cell_type": "code",
   "execution_count": 1,
   "id": "933d9d24-6fd8-4d08-ba9f-c2c839a18407",
   "metadata": {
    "tags": []
   },
   "outputs": [],
   "source": [
    "from selenium import webdriver\n",
    "import time"
   ]
  },
  {
   "cell_type": "code",
   "execution_count": 9,
   "id": "a418aea8-6d70-4fb3-b2d9-d2d5e72a03ef",
   "metadata": {
    "tags": []
   },
   "outputs": [],
   "source": [
    "driver = webdriver.Chrome()\n",
    "driver.get('https://www.naver.com')\n",
    "# driver.implicitly_wait(10)\n",
    "time.sleep(5)\n",
    "driver.get('https://google.co.kr')\n",
    "time.sleep(5)\n",
    "driver.get('https://www.daum.net/')\n",
    "time.sleep(5)\n",
    "driver.back()\n",
    "driver.fullscreen_window()\n",
    "time.sleep(3)\n",
    "driver.back()\n",
    "driver.set_window_rect(100,100,800,800)\n",
    "time.sleep(3)\n",
    "driver.forward()\n",
    "time.sleep(3)\n",
    "driver.quit()"
   ]
  },
  {
   "cell_type": "code",
   "execution_count": 3,
   "id": "3e3b1b1a-8e00-407a-855f-808610fa2a6e",
   "metadata": {
    "tags": []
   },
   "outputs": [
    {
     "data": {
      "text/plain": [
       "'4.8.3'"
      ]
     },
     "execution_count": 3,
     "metadata": {},
     "output_type": "execute_result"
    }
   ],
   "source": [
    "import selenium\n",
    "selenium.__version__"
   ]
  },
  {
   "cell_type": "code",
   "execution_count": 10,
   "id": "e297d812-ef44-427c-8376-50f0992f0901",
   "metadata": {
    "tags": []
   },
   "outputs": [],
   "source": [
    "from selenium import webdriver\n",
    "import time\n",
    "from selenium.webdriver.common.by import By\n",
    "from selenium.webdriver.common.keys import Keys"
   ]
  },
  {
   "cell_type": "code",
   "execution_count": 15,
   "id": "5d2310ef-adac-4415-809b-d4cd00897567",
   "metadata": {
    "tags": []
   },
   "outputs": [],
   "source": [
    "driver = webdriver.Chrome()\n",
    "driver.get('https://www.naver.com')\n",
    "time.sleep(5)\n",
    "search = driver.find_element(By.ID,'query')\n",
    "# print(type(search))\n",
    "# print(search)\n",
    "search.send_keys('봄')\n",
    "search.send_keys(Keys.ENTER)\n",
    "item = driver.find_element(By.CSS_SELECTOR,'ul.base > li.menu:nth-child(2)')\n",
    "item.click()"
   ]
  },
  {
   "cell_type": "code",
   "execution_count": null,
   "id": "444a474f-5d3d-4ddc-aa88-50cb392ae598",
   "metadata": {},
   "outputs": [],
   "source": []
  }
 ],
 "metadata": {
  "kernelspec": {
   "display_name": "Python 3 (ipykernel)",
   "language": "python",
   "name": "python3"
  },
  "language_info": {
   "codemirror_mode": {
    "name": "ipython",
    "version": 3
   },
   "file_extension": ".py",
   "mimetype": "text/x-python",
   "name": "python",
   "nbconvert_exporter": "python",
   "pygments_lexer": "ipython3",
   "version": "3.11.1"
  }
 },
 "nbformat": 4,
 "nbformat_minor": 5
}
