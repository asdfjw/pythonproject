{
 "cells": [
  {
   "cell_type": "code",
   "execution_count": 1,
   "id": "2e1940e1-e224-4257-9161-826847419ee3",
   "metadata": {
    "tags": []
   },
   "outputs": [],
   "source": [
    "from urllib import request\n",
    "from bs4 import BeautifulSoup"
   ]
  },
  {
   "cell_type": "code",
   "execution_count": 5,
   "id": "f12dd184-1c18-402b-bd14-af64dc6e2949",
   "metadata": {
    "tags": []
   },
   "outputs": [
    {
     "name": "stdout",
     "output_type": "stream",
     "text": [
      "[<ul class=\"quickSearchResultBox\">\n",
      "</ul>]\n"
     ]
    }
   ],
   "source": [
    "url = 'https://www.starbucks.co.kr/store/store_map.do'\n",
    "r = request.urlopen(url)\n",
    "# print(r.read().decode('utf8'))\n",
    "soup = BeautifulSoup(r,'lxml')\n",
    "# print(soup)\n",
    "print(soup.select('ul.quickSearchResultBox'))"
   ]
  },
  {
   "cell_type": "code",
   "execution_count": 6,
   "id": "a27191e2-7234-4701-bb21-e1c244ddd2fb",
   "metadata": {
    "collapsed": true,
    "jupyter": {
     "outputs_hidden": true
    },
    "tags": []
   },
   "outputs": [
    {
     "name": "stdout",
     "output_type": "stream",
     "text": [
      "Collecting selenium\n",
      "  Downloading selenium-4.8.3-py3-none-any.whl (6.5 MB)\n",
      "     ---------------------------------------- 0.0/6.5 MB ? eta -:--:--\n",
      "     -- ------------------------------------- 0.4/6.5 MB 11.6 MB/s eta 0:00:01\n",
      "     ------ --------------------------------- 1.0/6.5 MB 12.5 MB/s eta 0:00:01\n",
      "     --------- ------------------------------ 1.5/6.5 MB 10.9 MB/s eta 0:00:01\n",
      "     ------------ --------------------------- 2.1/6.5 MB 11.2 MB/s eta 0:00:01\n",
      "     ---------------- ----------------------- 2.7/6.5 MB 11.3 MB/s eta 0:00:01\n",
      "     ------------------- -------------------- 3.2/6.5 MB 11.9 MB/s eta 0:00:01\n",
      "     ---------------------- ----------------- 3.7/6.5 MB 11.9 MB/s eta 0:00:01\n",
      "     -------------------------- ------------- 4.3/6.5 MB 11.9 MB/s eta 0:00:01\n",
      "     ----------------------------- ---------- 4.8/6.5 MB 11.9 MB/s eta 0:00:01\n",
      "     -------------------------------- ------- 5.4/6.5 MB 11.8 MB/s eta 0:00:01\n",
      "     ------------------------------------ --- 5.9/6.5 MB 11.8 MB/s eta 0:00:01\n",
      "     ---------------------------------------  6.4/6.5 MB 11.7 MB/s eta 0:00:01\n",
      "     ---------------------------------------- 6.5/6.5 MB 11.3 MB/s eta 0:00:00\n",
      "Requirement already satisfied: urllib3[socks]~=1.26 in c:\\users\\admin\\appdata\\local\\programs\\python\\python311\\lib\\site-packages (from selenium) (1.26.14)\n",
      "Collecting trio~=0.17\n",
      "  Downloading trio-0.22.0-py3-none-any.whl (384 kB)\n",
      "     ---------------------------------------- 0.0/384.9 kB ? eta -:--:--\n",
      "     ------------------------------------- 384.9/384.9 kB 12.1 MB/s eta 0:00:00\n",
      "Collecting trio-websocket~=0.9\n",
      "  Downloading trio_websocket-0.10.2-py3-none-any.whl (17 kB)\n",
      "Requirement already satisfied: certifi>=2021.10.8 in c:\\users\\admin\\appdata\\local\\programs\\python\\python311\\lib\\site-packages (from selenium) (2022.12.7)\n",
      "Requirement already satisfied: attrs>=19.2.0 in c:\\users\\admin\\appdata\\local\\programs\\python\\python311\\lib\\site-packages (from trio~=0.17->selenium) (22.2.0)\n",
      "Collecting sortedcontainers\n",
      "  Downloading sortedcontainers-2.4.0-py2.py3-none-any.whl (29 kB)\n",
      "Collecting async-generator>=1.9\n",
      "  Downloading async_generator-1.10-py3-none-any.whl (18 kB)\n",
      "Requirement already satisfied: idna in c:\\users\\admin\\appdata\\local\\programs\\python\\python311\\lib\\site-packages (from trio~=0.17->selenium) (3.4)\n",
      "Collecting outcome\n",
      "  Downloading outcome-1.2.0-py2.py3-none-any.whl (9.7 kB)\n",
      "Requirement already satisfied: sniffio in c:\\users\\admin\\appdata\\local\\programs\\python\\python311\\lib\\site-packages (from trio~=0.17->selenium) (1.3.0)\n",
      "Requirement already satisfied: cffi>=1.14 in c:\\users\\admin\\appdata\\local\\programs\\python\\python311\\lib\\site-packages (from trio~=0.17->selenium) (1.15.1)\n",
      "Collecting exceptiongroup\n",
      "  Downloading exceptiongroup-1.1.1-py3-none-any.whl (14 kB)\n",
      "Collecting wsproto>=0.14\n",
      "  Downloading wsproto-1.2.0-py3-none-any.whl (24 kB)\n",
      "Collecting PySocks!=1.5.7,<2.0,>=1.5.6\n",
      "  Downloading PySocks-1.7.1-py3-none-any.whl (16 kB)\n",
      "Requirement already satisfied: pycparser in c:\\users\\admin\\appdata\\local\\programs\\python\\python311\\lib\\site-packages (from cffi>=1.14->trio~=0.17->selenium) (2.21)\n",
      "Collecting h11<1,>=0.9.0\n",
      "  Downloading h11-0.14.0-py3-none-any.whl (58 kB)\n",
      "     ---------------------------------------- 0.0/58.3 kB ? eta -:--:--\n",
      "     ---------------------------------------- 58.3/58.3 kB 3.2 MB/s eta 0:00:00\n",
      "Installing collected packages: sortedcontainers, PySocks, outcome, h11, exceptiongroup, async-generator, wsproto, trio, trio-websocket, selenium\n",
      "Successfully installed PySocks-1.7.1 async-generator-1.10 exceptiongroup-1.1.1 h11-0.14.0 outcome-1.2.0 selenium-4.8.3 sortedcontainers-2.4.0 trio-0.22.0 trio-websocket-0.10.2 wsproto-1.2.0\n"
     ]
    }
   ],
   "source": [
    "!pip install selenium"
   ]
  },
  {
   "cell_type": "code",
   "execution_count": 10,
   "id": "925c1839-1e02-4d1f-9891-5c68bbf5a4b1",
   "metadata": {
    "tags": []
   },
   "outputs": [],
   "source": [
    "from selenium import webdriver\n",
    "import time"
   ]
  },
  {
   "cell_type": "code",
   "execution_count": 13,
   "id": "99537bd9-cc49-4237-b811-66286b3a99d6",
   "metadata": {
    "collapsed": true,
    "jupyter": {
     "outputs_hidden": true
    },
    "tags": []
   },
   "outputs": [
    {
     "name": "stdout",
     "output_type": "stream",
     "text": [
      "[<ul class=\"quickSearchResultBox\"><li class=\"quickResultLstCon\" data-code=\"9879\" data-hlytag=\"null\" data-index=\"0\" data-lat=\"35.162722\" data-long=\"126.810218\" data-name=\"광주하남\" data-storecd=\"684\" style=\"background:#fff\"> <strong data-my_siren_order_store_yn=\"N\" data-name=\"광주하남\" data-store=\"684\" data-yn=\"N\">광주하남  </strong> <p class=\"result_details\">광주광역시 광산구 사암로216번길 38-16, 1~2층 (우산동)<br/>1522-3232</p> <i class=\"pin_general\">리저브 매장 2번</i></li><li class=\"quickResultLstCon\" data-code=\"3757\" data-hlytag=\"null\" data-index=\"1\" data-lat=\"35.146768\" data-long=\"126.77772\" data-name=\"광주선운DT\" data-storecd=\"1635\" style=\"background:#fff\"> <strong data-my_siren_order_store_yn=\"N\" data-name=\"광주선운DT\" data-store=\"1635\" data-yn=\"N\">광주선운DT  </strong> <p class=\"result_details\">광주광역시 광산구 선운로 20번길 63 <br/>1522-3232</p> <i class=\"pin_generalDT\">리저브 매장 2번</i></li><li class=\"quickResultLstCon\" data-code=\"3595\" data-hlytag=\"null\" data-index=\"2\" data-lat=\"35.173524\" data-long=\"126.804191\" data-name=\"광주산정DT\" data-storecd=\"1421\" style=\"background:#fff\"> <strong data-my_siren_order_store_yn=\"N\" data-name=\"광주산정DT\" data-store=\"1421\" data-yn=\"N\">광주산정DT  </strong> <p class=\"result_details\">광주광역시 광산구 용아로 342 (산정동)<br/>1522-3232</p> <i class=\"pin_generalDT\">리저브 매장 2번</i></li><li class=\"quickResultLstCon\" data-code=\"3363\" data-hlytag=\"null\" data-index=\"3\" data-lat=\"35.138026\" data-long=\"126.791444\" data-name=\"광주송정역\" data-storecd=\"1161\" style=\"background:#fff\"> <strong data-my_siren_order_store_yn=\"N\" data-name=\"광주송정역\" data-store=\"1161\" data-yn=\"N\">광주송정역  </strong> <p class=\"result_details\">광주광역시 광산구 상무대로205번길 6 (송정동)<br/>1522-3232</p> <i class=\"pin_general\">리저브 매장 2번</i></li><li class=\"quickResultLstCon\" data-code=\"4314\" data-hlytag=\"null\" data-index=\"4\" data-lat=\"35.137191435617\" data-long=\"126.791658278605\" data-name=\"광주송정로\" data-storecd=\"2023\" style=\"background:#fff\"> <strong data-my_siren_order_store_yn=\"N\" data-name=\"광주송정로\" data-store=\"2023\" data-yn=\"N\">광주송정로  </strong> <p class=\"result_details\">광주광역시 광산구 상무대로 202 (송정동)<br/>1522-3232</p> <i class=\"pin_general\">리저브 매장 2번</i></li><li class=\"quickResultLstCon\" data-code=\"3446\" data-hlytag=\"null\" data-index=\"5\" data-lat=\"35.176936\" data-long=\"126.807887\" data-name=\"광주흑석DT\" data-storecd=\"1252\" style=\"background:#fff\"> <strong data-my_siren_order_store_yn=\"N\" data-name=\"광주흑석DT\" data-store=\"1252\" data-yn=\"N\">광주흑석DT  </strong> <p class=\"result_details\">광주광역시 광산구 사암로 367 (산정동)<br/>1522-3232</p> <i class=\"pin_generalDT\">리저브 매장 2번</i></li><li class=\"quickResultLstCon\" data-code=\"3621\" data-hlytag=\"null\" data-index=\"6\" data-lat=\"35.175136\" data-long=\"126.818062\" data-name=\"광주운남DT\" data-storecd=\"1440\" style=\"background:#fff\"> <strong data-my_siren_order_store_yn=\"N\" data-name=\"광주운남DT\" data-store=\"1440\" data-yn=\"N\">광주운남DT  </strong> <p class=\"result_details\">광주광역시 광산구 임방울대로 156 (운남동)<br/>1522-3232</p> <i class=\"pin_generalDT\">리저브 매장 2번</i></li><li class=\"quickResultLstCon\" data-code=\"3055\" data-hlytag=\"null\" data-index=\"7\" data-lat=\"35.1790467\" data-long=\"126.8301259\" data-name=\"광주신가DT\" data-storecd=\"878\" style=\"background:#fff\"> <strong data-my_siren_order_store_yn=\"N\" data-name=\"광주신가DT\" data-store=\"878\" data-yn=\"N\">광주신가DT  </strong> <p class=\"result_details\">광주광역시 광산구 목련로 335 (신가동)<br/>1522-3232</p> <i class=\"pin_generalDT\">리저브 매장 2번</i></li><li class=\"quickResultLstCon\" data-code=\"9906\" data-hlytag=\"null\" data-index=\"8\" data-lat=\"35.191469\" data-long=\"126.819259\" data-name=\"광주장덕\" data-storecd=\"713\" style=\"background:#fff\"> <strong data-my_siren_order_store_yn=\"N\" data-name=\"광주장덕\" data-store=\"713\" data-yn=\"N\">광주장덕  </strong> <p class=\"result_details\">광주광역시 광산구 장신로 85 (장덕동)<br/>1522-3232</p> <i class=\"pin_general\">리저브 매장 2번</i></li><li class=\"quickResultLstCon\" data-code=\"9584\" data-hlytag=\"null\" data-index=\"9\" data-lat=\"35.190397\" data-long=\"126.824804\" data-name=\"광산수완\" data-storecd=\"379\" style=\"background:#fff\"> <strong data-my_siren_order_store_yn=\"N\" data-name=\"광산수완\" data-store=\"379\" data-yn=\"N\">광산수완  </strong> <p class=\"result_details\">광주광역시 광산구 장신로 134, 1~2층 (수완동)<br/>1522-3232</p> <i class=\"pin_general\">리저브 매장 2번</i></li></ul>]\n"
     ]
    }
   ],
   "source": [
    "driver = webdriver.Chrome()\n",
    "driver.get(url)\n",
    "# driver.implicitly_wait(10)\n",
    "time.sleep(5)\n",
    "page = driver.page_source\n",
    "soup = BeautifulSoup(page,'lxml')\n",
    "print(soup.select('ul.quickSearchResultBox'))"
   ]
  },
  {
   "cell_type": "code",
   "execution_count": 14,
   "id": "b85802b1-d78d-44e1-8c6c-4eaad7383e6c",
   "metadata": {
    "tags": []
   },
   "outputs": [],
   "source": [
    "# 특정지역 선택해서 점포명, 주소 크롤링"
   ]
  },
  {
   "cell_type": "code",
   "execution_count": 15,
   "id": "1ec1e5d2-16c5-4050-878f-f05770ff58da",
   "metadata": {
    "tags": []
   },
   "outputs": [],
   "source": [
    "from bs4 import BeautifulSoup\n",
    "from selenium import webdriver\n",
    "from selenium.webdriver.common.by import By\n",
    "import time"
   ]
  },
  {
   "cell_type": "code",
   "execution_count": 27,
   "id": "e4d02604-6f72-491e-90ee-db36744adc0b",
   "metadata": {
    "tags": []
   },
   "outputs": [
    {
     "name": "stdout",
     "output_type": "stream",
     "text": [
      "그랜드조선 부산  \n",
      "부산광역시 해운대구 해운대해변로 292 (중동)\n",
      "-------------\n",
      "센텀몰1F  \n",
      "부산광역시 해운대구 센텀4로 15 (우동)\n",
      "-------------\n",
      "해운대중동역  \n",
      "부산광역시 해운대구 좌동순환로 6 (중동)\n",
      "-------------\n",
      "센텀신세계3F  \n",
      "부산광역시 해운대구 센텀남대로 35 (우동)\n",
      "-------------\n",
      "해운대 엑스더스카이  \n",
      "부산광역시 해운대구 달맞이길30 \n",
      "-------------\n",
      "해운대좌동  \n",
      "부산광역시 해운대구 좌동순환로 178 (좌동)\n",
      "-------------\n",
      "해운대NC  \n",
      "부산광역시 해운대구 해운대로 813 (좌동)\n",
      "-------------\n",
      "월드마크센텀  \n",
      "부산광역시 해운대구 센텀동로 25, 1층 (우동)\n",
      "-------------\n",
      "센텀KNN  \n",
      "부산광역시 해운대구 센텀서로 30 (우동)\n",
      "-------------\n",
      "센텀드림월드  \n",
      "부산광역시 해운대구 센텀2로 25, 센텀드림월드 1층 (우동)\n",
      "-------------\n",
      "해운대이마트  \n",
      "부산광역시 해운대구 좌동순환로 511 (중동) 1층\n",
      "-------------\n",
      "해운대달맞이  \n",
      "부산광역시 해운대구 달맞이길 189 (중동)\n",
      "-------------\n",
      "마린시티아이파크  \n",
      "부산광역시 해운대구 마린시티2로 38 (우동)\n",
      "-------------\n",
      "제니스스퀘어  \n",
      "부산광역시 해운대구 마린시티2로 33, 제니스스퀘어 (우동)\n",
      "-------------\n",
      "센텀시티역  \n",
      "부산광역시 해운대구 센텀동로 9, 트럼프월드센텀아파트 1층 (우동)\n",
      "-------------\n",
      "블루스퀘어  \n",
      "부산광역시 해운대구 좌동로 96 (좌동)\n",
      "-------------\n",
      "팔레드시즈  \n",
      "부산광역시 해운대구 해운대해변로298번길 24, 팔래드시즈 1-3호, 2-3호 (중동)\n",
      "-------------\n",
      "베네시티  \n",
      "부산광역시 해운대구 해운대해변로 163 (우동)\n",
      "-------------\n",
      "벡스코  \n",
      "부산광역시 해운대구 APEC로 55, 벡스코내 (우동)\n",
      "-------------\n",
      "하버타운  \n",
      "부산광역시 해운대구 해운대해변로 257 (우동)\n",
      "-------------\n",
      "장산역  \n",
      "부산광역시 해운대구 해운대로 802 (좌동)\n",
      "-------------\n",
      "부산송정비치  \n",
      "부산광역시 해운대구 송정해변로 36 (송정동)\n",
      "-------------\n",
      "센텀그린타워  \n",
      "부산광역시 해운대구 센텀중앙로 78 (우동)\n",
      "-------------\n",
      "해운대달맞이DT  \n",
      "부산광역시 해운대구 달맞이길 57 (중동) 1~3층\n",
      "-------------\n",
      "센텀신세계B1  \n",
      "부산광역시 해운대구 센텀남대로 35 (우동) 센텀시티 신세계UEC\n",
      "-------------\n",
      "센텀로  \n",
      "부산광역시 해운대구 센텀2로 10 (우동) 센텀메디컬센타 1층 스타벅스 센텀로점\n",
      "-------------\n",
      "해운대  \n",
      "부산광역시 해운대구 구남로 49 (중동) 101호\n",
      "-------------\n",
      "부산재송DT  \n",
      "부산광역시 해운대구 해운대로 189 (재송동)\n",
      "-------------\n",
      "해운대역  \n",
      "부산광역시 해운대구 구남로 9 (우동)\n",
      "-------------\n",
      "센텀파크  \n",
      "부산광역시 해운대구 센텀중앙로 145 (재송동, 더샵센텀파크1차아파트)\n",
      "-------------\n",
      "수영강변DT  \n",
      "부산광역시 해운대구 수영강변대로 516 (반여동)\n",
      "-------------\n",
      "더해운대R  \n",
      "부산광역시 해운대구 해운대해변로 197 (우동, 해운대경동제이드아파트)\n",
      "-------------\n"
     ]
    }
   ],
   "source": [
    "url = 'https://www.starbucks.co.kr/store/store_map.do'\n",
    "driver = webdriver.Chrome()\n",
    "driver.get(url)\n",
    "time.sleep(5)\n",
    "\n",
    "loca = driver.find_element(By.CLASS_NAME,'loca_search')\n",
    "# print(loca)\n",
    "loca.click()\n",
    "\n",
    "time.sleep(3)\n",
    "sido = driver.find_elements(By.CSS_SELECTOR,'ul.sido_arae_box > li')\n",
    "# print(sido)\n",
    "sido[5].click()\n",
    "\n",
    "time.sleep(3)\n",
    "gugun = driver.find_elements(By.CSS_SELECTOR,'ul.gugun_arae_box > li')\n",
    "gugun[-1].click()\n",
    "\n",
    "time.sleep(3)\n",
    "page = driver.page_source\n",
    "\n",
    "soup = BeautifulSoup(page,'lxml')\n",
    "items = soup.select('ul.quickSearchResultBoxSidoGugun li')\n",
    "for li in items:\n",
    "    print(li.find('strong').string)\n",
    "    print(li.find('p').text.replace('1522-3232',''))\n",
    "    print('-------------')"
   ]
  },
  {
   "cell_type": "code",
   "execution_count": null,
   "id": "703eaba0-854f-4e2f-98d3-1b061239b4e9",
   "metadata": {},
   "outputs": [],
   "source": []
  }
 ],
 "metadata": {
  "kernelspec": {
   "display_name": "Python 3 (ipykernel)",
   "language": "python",
   "name": "python3"
  },
  "language_info": {
   "codemirror_mode": {
    "name": "ipython",
    "version": 3
   },
   "file_extension": ".py",
   "mimetype": "text/x-python",
   "name": "python",
   "nbconvert_exporter": "python",
   "pygments_lexer": "ipython3",
   "version": "3.11.1"
  }
 },
 "nbformat": 4,
 "nbformat_minor": 5
}
