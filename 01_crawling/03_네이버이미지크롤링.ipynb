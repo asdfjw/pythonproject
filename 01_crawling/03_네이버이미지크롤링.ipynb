{
 "cells": [
  {
   "cell_type": "raw",
   "id": "ed5f8c41-8e44-4cc4-a116-8d135fb50dc4",
   "metadata": {},
   "source": [
    "네이버 이미지에서 검색키워드를 입력받아서 검색한 다음 이미지 결과에서 \n",
    "이미지를 10개정도 다운로드 받아서 img폴더에 저장하세요"
   ]
  },
  {
   "cell_type": "code",
   "execution_count": 2,
   "id": "8de249cc-55f7-4cb6-9299-4075f2712cf3",
   "metadata": {
    "tags": []
   },
   "outputs": [],
   "source": [
    "import requests\n",
    "from urllib import request\n",
    "from bs4 import BeautifulSoup"
   ]
  },
  {
   "cell_type": "code",
   "execution_count": 11,
   "id": "f3c98782-a1a6-4f29-8bcf-9b963ac9176e",
   "metadata": {
    "tags": []
   },
   "outputs": [
    {
     "name": "stdin",
     "output_type": "stream",
     "text": [
      "검색어 >>>  봄\n"
     ]
    },
    {
     "name": "stdout",
     "output_type": "stream",
     "text": [
      "url오류\n"
     ]
    }
   ],
   "source": [
    "#https://search.naver.com/search.naver?where=image&sm=tab_jum&query=%EB%B4%84\n",
    "\n",
    "key = input('검색어 >>> ')\n",
    "url = 'https://search.naver.com/search.naver'\n",
    "param = {\n",
    "    'where':'image',\n",
    "    'sm':'tab_jum',\n",
    "    'query':key\n",
    "}\n",
    "\n",
    "r = requests.get(url,params=param)\n",
    "soup = BeautifulSoup(r.text,'lxml')\n",
    "result = soup.find_all('img')\n",
    "# print(result)\n",
    "for i, item in enumerate(result):\n",
    "    try:\n",
    "        # print(item['src'])\n",
    "        index = item['src'].index('&')\n",
    "        # print(index)\n",
    "        src = item['src'][:index]\n",
    "        src_list = src.split('.')[-1]\n",
    "        # print(src_list)\n",
    "        request.urlretrieve(src,'img/'+str(i)+'.'+src_list)\n",
    "    except:\n",
    "        print('url오류')\n"
   ]
  },
  {
   "cell_type": "code",
   "execution_count": null,
   "id": "98df26f1-a9f6-4fd1-a21c-94da816d53da",
   "metadata": {},
   "outputs": [],
   "source": []
  }
 ],
 "metadata": {
  "kernelspec": {
   "display_name": "Python 3 (ipykernel)",
   "language": "python",
   "name": "python3"
  },
  "language_info": {
   "codemirror_mode": {
    "name": "ipython",
    "version": 3
   },
   "file_extension": ".py",
   "mimetype": "text/x-python",
   "name": "python",
   "nbconvert_exporter": "python",
   "pygments_lexer": "ipython3",
   "version": "3.11.1"
  }
 },
 "nbformat": 4,
 "nbformat_minor": 5
}
